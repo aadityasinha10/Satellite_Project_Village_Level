{
  "nbformat": 4,
  "nbformat_minor": 0,
  "metadata": {
    "colab": {
      "name": "Centroid_Shapefiles.ipynb",
      "provenance": [],
      "collapsed_sections": []
    },
    "kernelspec": {
      "display_name": "Python 3",
      "name": "python3"
    }
  },
  "cells": [
    {
      "cell_type": "code",
      "metadata": {
        "colab": {
          "base_uri": "https://localhost:8080/"
        },
        "id": "KiXSg0o7EdT7",
        "outputId": "a020d78c-a0ff-4a15-add8-81b82ec022f8"
      },
      "source": [
        "from google.colab import drive\n",
        "drive.mount('/content/drive')"
      ],
      "execution_count": null,
      "outputs": [
        {
          "output_type": "stream",
          "text": [
            "Mounted at /content/drive\n"
          ],
          "name": "stdout"
        }
      ]
    },
    {
      "cell_type": "code",
      "metadata": {
        "id": "5fqza3X-EnzJ"
      },
      "source": [
        "import json\n",
        "import os\n",
        "from tqdm import tqdm\n",
        "import pickle\n",
        "\n",
        "geopath = '/content/drive/MyDrive/Satellite Project-Village level/Shrug Data/shrug'\n",
        "comb_dict = pickle.load(open('/content/drive/MyDrive/Satellite Project-Village level/combined_dict.pickle', 'rb'))\n",
        "vill_geoinfo = {}"
      ],
      "execution_count": null,
      "outputs": []
    },
    {
      "cell_type": "code",
      "metadata": {
        "id": "ht9tsmqqkJ55"
      },
      "source": [
        "def nested_len(lst):\n",
        "  if len(lst) == 0:\n",
        "    return 0\n",
        "\n",
        "  if type(lst[0]) != type([]):\n",
        "    return len(lst)\n",
        "\n",
        "  return nested_len(lst[0])"
      ],
      "execution_count": null,
      "outputs": []
    },
    {
      "cell_type": "code",
      "metadata": {
        "id": "z6lRYnqM3mBH"
      },
      "source": [
        "def dist(c1, c2):\n",
        "  return ((c1[0]-c2[0])**2) + ((c1[1]-c2[1])**2)"
      ],
      "execution_count": null,
      "outputs": []
    },
    {
      "cell_type": "code",
      "metadata": {
        "colab": {
          "base_uri": "https://localhost:8080/"
        },
        "id": "qm6mtofb_XpF",
        "outputId": "aafba5d7-97c8-4495-e7ac-988b9cdf54ca"
      },
      "source": [
        "print(comb_dict)"
      ],
      "execution_count": null,
      "outputs": [
        {
          "output_type": "stream",
          "text": [
            "<_io.TextIOWrapper name='/content/drive/MyDrive/Satellite Project-Village level/combined_dict.pickle' mode='r' encoding='UTF-8'>\n"
          ],
          "name": "stdout"
        }
      ]
    },
    {
      "cell_type": "code",
      "metadata": {
        "id": "O6eSAoixFO0e"
      },
      "source": [
        "negative = 0\n",
        "max_id = 0\n",
        "\n",
        "max_sq_rad = 0\n",
        "avg_sq_rad = 0\n",
        "num_vill = 0\n",
        "\n",
        "for state in os.listdir(geopath):\n",
        "  f = open(os.path.join(geopath, state), 'r')\n",
        "  jsonstring = f.read()\n",
        "  data = json.loads(jsonstring)\n",
        "  \n",
        "  for vill in data['features']:\n",
        "    vill_id = vill['properties']['pc11_village_id']\n",
        "    if vill_id not in comb_dict:\n",
        "      continue\n",
        "\n",
        "    mean_coord = [0,0]\n",
        "\n",
        "    if type(vill['geometry']['coordinates'][0][0][0]) == type([]):\n",
        "      coord_list = vill['geometry']['coordinates'][0][0]\n",
        "    else:\n",
        "      coord_list = vill['geometry']['coordinates'][0]\n",
        "\n",
        "    for coord in coord_list:\n",
        "      if coord[0] < 0.0 or coord[1] < 0.0:\n",
        "        negative += 1\n",
        "      mean_coord[0] += coord[0]\n",
        "      mean_coord[1] += coord[1]\n",
        "\n",
        "    nlen = len(coord_list)\n",
        "    # print(nlen)\n",
        "    mean_coord[0] /= nlen\n",
        "    mean_coord[1] /= nlen\n",
        "    vill_geoinfo[vill_id] = mean_coord\n",
        "\n",
        "    max_rsq = 0\n",
        "\n",
        "    for coord in coord_list:\n",
        "      max_rsq = max(max_rsq, dist(mean_coord, coord))\n",
        "\n",
        "    max_sq_rad = max(max_sq_rad, max_rsq)\n",
        "    avg_sq_rad += max_rsq\n",
        "    num_vill += 1\n",
        "    max_id = max(vill_id, max_id)"
      ],
      "execution_count": null,
      "outputs": []
    },
    {
      "cell_type": "code",
      "metadata": {
        "colab": {
          "base_uri": "https://localhost:8080/"
        },
        "id": "qNFRWXB65Wey",
        "outputId": "ede92f14-e09e-40fc-ee0c-96909ce9dc20"
      },
      "source": [
        "avg_sq_rad /= num_vill\n",
        "\n",
        "print(\"Average radius:\", avg_sq_rad)\n",
        "print(\"Max radius:\", max_sq_rad)"
      ],
      "execution_count": null,
      "outputs": [
        {
          "output_type": "stream",
          "text": [
            "Average radius: 3764667.084449923\n",
            "Max radius: 740977661.5082496\n"
          ],
          "name": "stdout"
        }
      ]
    },
    {
      "cell_type": "code",
      "metadata": {
        "colab": {
          "base_uri": "https://localhost:8080/"
        },
        "id": "L7RaB3a_AMB0",
        "outputId": "6bf1e980-8147-4da6-a92d-20118f6aa2a5"
      },
      "source": [
        "len(vill_geoinfo)"
      ],
      "execution_count": null,
      "outputs": [
        {
          "output_type": "execute_result",
          "data": {
            "text/plain": [
              "345511"
            ]
          },
          "metadata": {
            "tags": []
          },
          "execution_count": 20
        }
      ]
    },
    {
      "cell_type": "code",
      "metadata": {
        "colab": {
          "base_uri": "https://localhost:8080/"
        },
        "id": "iaev-6yV_QOt",
        "outputId": "13aead28-31d5-47bb-9e8e-cfaeada1fc5b"
      },
      "source": [
        "id = 174870\n",
        "found = False\n",
        "\n",
        "for state in os.listdir(geopath):\n",
        "  f = open(os.path.join(geopath, state), 'r')\n",
        "  jsonstring = f.read()\n",
        "  data = json.loads(jsonstring)\n",
        "  \n",
        "  for vill in data['features']:\n",
        "    vill_id = vill['properties']['pc11_village_id']\n",
        "    if vill_id == id:\n",
        "      print(state)\n",
        "      found = True\n",
        "      break\n",
        "  if found == True:\n",
        "    break"
      ],
      "execution_count": null,
      "outputs": [
        {
          "output_type": "stream",
          "text": [
            "UP.geojson\n"
          ],
          "name": "stdout"
        }
      ]
    },
    {
      "cell_type": "code",
      "metadata": {
        "colab": {
          "base_uri": "https://localhost:8080/"
        },
        "id": "_1gwtPosZZ7p",
        "outputId": "0c23f468-ee57-47ed-801c-dd0999f589b5"
      },
      "source": [
        "len(vill_geoinfo)"
      ],
      "execution_count": null,
      "outputs": [
        {
          "output_type": "execute_result",
          "data": {
            "text/plain": [
              "545280"
            ]
          },
          "metadata": {
            "tags": []
          },
          "execution_count": 5
        }
      ]
    },
    {
      "cell_type": "code",
      "metadata": {
        "colab": {
          "base_uri": "https://localhost:8080/"
        },
        "id": "8vuKCecfr4L9",
        "outputId": "9c35d2cd-f286-4c87-d24e-40b3a3fdf330"
      },
      "source": [
        "print(negative)"
      ],
      "execution_count": null,
      "outputs": [
        {
          "output_type": "stream",
          "text": [
            "5226644\n"
          ],
          "name": "stdout"
        }
      ]
    },
    {
      "cell_type": "code",
      "metadata": {
        "colab": {
          "base_uri": "https://localhost:8080/"
        },
        "id": "Lbaj7GR9O7ng",
        "outputId": "a79fddec-e34d-4590-c8c6-e97876828bce"
      },
      "source": [
        "print(max_id)"
      ],
      "execution_count": null,
      "outputs": [
        {
          "output_type": "stream",
          "text": [
            "644916\n"
          ],
          "name": "stdout"
        }
      ]
    },
    {
      "cell_type": "code",
      "metadata": {
        "colab": {
          "base_uri": "https://localhost:8080/"
        },
        "id": "fPKUw4ezjAR4",
        "outputId": "856e2752-814b-4f03-b5d9-79012e288b47"
      },
      "source": [
        "if type([]) == type([[]]):\n",
        "  print(\"WTF\")"
      ],
      "execution_count": null,
      "outputs": [
        {
          "output_type": "stream",
          "text": [
            "WTF\n"
          ],
          "name": "stdout"
        }
      ]
    },
    {
      "cell_type": "code",
      "metadata": {
        "id": "9UEXl_VFEQao"
      },
      "source": [
        "import pickle\n",
        "vill_geoinfo_path = '/content/drive/MyDrive/Satellite Project-Village level/vill_geoinfo2.pickle'\n",
        "pickle.dump(vill_geoinfo, open(vill_geoinfo_path, 'wb'))"
      ],
      "execution_count": null,
      "outputs": []
    },
    {
      "cell_type": "code",
      "metadata": {
        "colab": {
          "base_uri": "https://localhost:8080/"
        },
        "id": "P8sMjK2mcIuf",
        "outputId": "b1841159-6e8a-4104-a883-24a509becad0"
      },
      "source": [
        "import heapq\n",
        "heap = []\n",
        "heapq.heapify(heap)\n",
        "heapq.heappush(heap, 2)\n",
        "heap"
      ],
      "execution_count": null,
      "outputs": [
        {
          "output_type": "execute_result",
          "data": {
            "text/plain": [
              "[2]"
            ]
          },
          "metadata": {
            "tags": []
          },
          "execution_count": 3
        }
      ]
    },
    {
      "cell_type": "code",
      "metadata": {
        "colab": {
          "base_uri": "https://localhost:8080/"
        },
        "id": "LYYslO3Ehhqf",
        "outputId": "bec71aed-50e6-47d8-e36c-505e5c568034"
      },
      "source": [
        "dct = {1:2, 2:3, 3:4}\n",
        "\n",
        "for k1 in dct:\n",
        "  for k2 in dct:\n",
        "    print(\"Hello\")"
      ],
      "execution_count": null,
      "outputs": [
        {
          "output_type": "stream",
          "text": [
            "Hello\n",
            "Hello\n",
            "Hello\n",
            "Hello\n",
            "Hello\n",
            "Hello\n",
            "Hello\n",
            "Hello\n",
            "Hello\n"
          ],
          "name": "stdout"
        }
      ]
    },
    {
      "cell_type": "code",
      "metadata": {
        "colab": {
          "base_uri": "https://localhost:8080/"
        },
        "id": "XYvPvT82S275",
        "outputId": "d450abe5-56fc-4c0c-81ba-a2e22dd893fa"
      },
      "source": [
        "import heapq\n",
        "heap = []\n",
        "heapq.heapify(heap)\n",
        "heapq.heappush(heap,(-2,4))\n",
        "heapq.heappush(heap,(-3,9))\n",
        "heap"
      ],
      "execution_count": null,
      "outputs": [
        {
          "output_type": "execute_result",
          "data": {
            "text/plain": [
              "[(-3, 9), (-2, 4)]"
            ]
          },
          "metadata": {
            "tags": []
          },
          "execution_count": 18
        }
      ]
    }
  ]
}